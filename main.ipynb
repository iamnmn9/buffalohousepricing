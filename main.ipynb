{
  "nbformat": 4,
  "nbformat_minor": 5,
  "metadata": {
    "kernelspec": {
      "display_name": "Python 3",
      "language": "python",
      "name": "python3"
    },
    "language_info": {
      "codemirror_mode": {
        "name": "ipython",
        "version": 3
      },
      "file_extension": ".py",
      "mimetype": "text/x-python",
      "name": "python",
      "nbconvert_exporter": "python",
      "pygments_lexer": "ipython3",
      "version": "3.8.5"
    },
    "colab": {
      "name": "main.ipynb",
      "provenance": [],
      "toc_visible": true,
      "include_colab_link": true
    }
  },
  "cells": [
    {
      "cell_type": "markdown",
      "metadata": {
        "id": "view-in-github",
        "colab_type": "text"
      },
      "source": [
        "<a href=\"https://colab.research.google.com/github/namanpundir/buffalohousepricing/blob/main/main.ipynb\" target=\"_parent\"><img src=\"https://colab.research.google.com/assets/colab-badge.svg\" alt=\"Open In Colab\"/></a>"
      ]
    },
    {
      "cell_type": "markdown",
      "metadata": {
        "id": "canadian-philadelphia"
      },
      "source": [
        "#### For this Assignment you have been given a data which is a subset of a bigger dataset which was collected by Buffalo Tax department. It contains information regarding the various properties in Buffalo.\n",
        "\n",
        "Number of Instances: 92508\n",
        "\n",
        "Number of Attributes: 16 (including the target variable)\n",
        "\n",
        "Attribute Information:\n",
        "\n",
        "| Column Name                | Description                                                                                                                                      | Type        |\n",
        "|----------------------------|--------------------------------------------------------------------------------------------------------------------------------------------------|-------------|\n",
        "| TOTAL VALUE                | The combined assessed value of the land and improvements on the parcel                                                                           | Number      |\n",
        "| FRONT                      | The width of the front of property (in feet)                                                                                                     | Number      |\n",
        "| DEPTH                      | The depth of the property (in feet)                                                                                                              | Number      |\n",
        "| PROPERTY CLASS             | Property Type Classification Codes describe the primary use of each parcel of real property on the assessment roll                               | Number      |\n",
        "| LAND VALUE                 | The assessed value of the land                                                                                                                   | Number      |\n",
        "| SALE PRICE                 | The price that the parcel of real property was last sold for                                                                                     | Number      |\n",
        "| YEAR BUILT                 | The year the primary building on the parcel was built                                                                                            | Number      |\n",
        "| TOTAL LIVING AREA          | The amount of living space (in square feet)                                                                                                      | Number      |\n",
        "| OVERALL CONDITION          | A grade of the condition of the property                                                                                                         | Number      |\n",
        "| BUILDING STYLE             | A code for the style of building                                                                                                                 | Number      |\n",
        "| HEAT TYPE                  | The type of heating system in the building (only applicable to residential properties)                                                           | Number      |\n",
        "| BASEMENT TYPE              | The type of basement on the property (only applicable to residential properties)                                                                 | Number      |\n",
        "| # OF STORIES               | The number of floors/Stories in the property                                                                                                     | Number      |\n",
        "| # OF FIREPLACES            | The number of fireplaces in a dwelling (only applicable to residential properties)                                                               | Number      |\n",
        "| # OF BEDS                  | The number of beds in a dwelling (only applicable to residential properties)                                                                     | Number      |\n",
        "| # OF BATHS                 | The number of baths in a dwelling (only applicable to residential properties)                                                                    | Number      |\n",
        "| # OF KITCHENS              | The number of kitchens in a dwelling (only applicable to residential properties)                                                                 | Number      |\n",
        "\n",
        "\n",
        "\n",
        "There are no missing Attribute Values.\n",
        "\n",
        "Your task is to implement a Linear Regression Model to predict the TOTAL VALUE of a property"
      ],
      "id": "canadian-philadelphia"
    },
    {
      "cell_type": "code",
      "metadata": {
        "id": "planned-perry"
      },
      "source": [
        "import pandas as pd\n",
        "import numpy as np\n",
        "from sklearn.model_selection import train_test_split\n",
        "import matplotlib.pyplot as plt\n",
        "\n",
        "%matplotlib inline"
      ],
      "id": "planned-perry",
      "execution_count": null,
      "outputs": []
    },
    {
      "cell_type": "markdown",
      "metadata": {
        "id": "traditional-tissue"
      },
      "source": [
        "#### STEP 1 - Load Data (Already Done)"
      ],
      "id": "traditional-tissue"
    },
    {
      "cell_type": "code",
      "metadata": {
        "id": "measured-report"
      },
      "source": [
        "df = pd.read_csv('//content//data.csv', dtype=np.float64)"
      ],
      "id": "measured-report",
      "execution_count": null,
      "outputs": []
    },
    {
      "cell_type": "code",
      "metadata": {
        "colab": {
          "base_uri": "https://localhost:8080/",
          "height": 257
        },
        "id": "10VypqC4FPbn",
        "outputId": "0de450ad-e61c-4f9a-9079-6ff7e3b0b26e"
      },
      "source": [
        "df.head()"
      ],
      "id": "10VypqC4FPbn",
      "execution_count": null,
      "outputs": [
        {
          "output_type": "execute_result",
          "data": {
            "text/html": [
              "<div>\n",
              "<style scoped>\n",
              "    .dataframe tbody tr th:only-of-type {\n",
              "        vertical-align: middle;\n",
              "    }\n",
              "\n",
              "    .dataframe tbody tr th {\n",
              "        vertical-align: top;\n",
              "    }\n",
              "\n",
              "    .dataframe thead th {\n",
              "        text-align: right;\n",
              "    }\n",
              "</style>\n",
              "<table border=\"1\" class=\"dataframe\">\n",
              "  <thead>\n",
              "    <tr style=\"text-align: right;\">\n",
              "      <th></th>\n",
              "      <th>TOTAL VALUE</th>\n",
              "      <th>FRONT</th>\n",
              "      <th>DEPTH</th>\n",
              "      <th>PROPERTY CLASS</th>\n",
              "      <th>LAND VALUE</th>\n",
              "      <th>SALE PRICE</th>\n",
              "      <th>YEAR BUILT</th>\n",
              "      <th>TOTAL LIVING AREA</th>\n",
              "      <th>OVERALL CONDITION</th>\n",
              "      <th>BUILDING STYLE</th>\n",
              "      <th>HEAT TYPE</th>\n",
              "      <th>BASEMENT TYPE</th>\n",
              "      <th># OF FIREPLACES</th>\n",
              "      <th># OF BEDS</th>\n",
              "      <th># OF BATHS</th>\n",
              "      <th># OF KITCHENS</th>\n",
              "    </tr>\n",
              "  </thead>\n",
              "  <tbody>\n",
              "    <tr>\n",
              "      <th>0</th>\n",
              "      <td>26600.0</td>\n",
              "      <td>11.0</td>\n",
              "      <td>0.0</td>\n",
              "      <td>411.0</td>\n",
              "      <td>2600.0</td>\n",
              "      <td>1.0</td>\n",
              "      <td>1985.0</td>\n",
              "      <td>1283.0</td>\n",
              "      <td>3.0</td>\n",
              "      <td>14.0</td>\n",
              "      <td>3.0</td>\n",
              "      <td>1.0</td>\n",
              "      <td>0.0</td>\n",
              "      <td>2.0</td>\n",
              "      <td>1.0</td>\n",
              "      <td>1.0</td>\n",
              "    </tr>\n",
              "    <tr>\n",
              "      <th>1</th>\n",
              "      <td>200.0</td>\n",
              "      <td>23.0</td>\n",
              "      <td>0.0</td>\n",
              "      <td>340.0</td>\n",
              "      <td>200.0</td>\n",
              "      <td>0.0</td>\n",
              "      <td>-1.0</td>\n",
              "      <td>0.0</td>\n",
              "      <td>-1.0</td>\n",
              "      <td>-1.0</td>\n",
              "      <td>-1.0</td>\n",
              "      <td>-1.0</td>\n",
              "      <td>0.0</td>\n",
              "      <td>0.0</td>\n",
              "      <td>0.0</td>\n",
              "      <td>0.0</td>\n",
              "    </tr>\n",
              "    <tr>\n",
              "      <th>2</th>\n",
              "      <td>25000.0</td>\n",
              "      <td>99.0</td>\n",
              "      <td>1440.0</td>\n",
              "      <td>311.0</td>\n",
              "      <td>25000.0</td>\n",
              "      <td>100000.0</td>\n",
              "      <td>-1.0</td>\n",
              "      <td>0.0</td>\n",
              "      <td>-1.0</td>\n",
              "      <td>-1.0</td>\n",
              "      <td>-1.0</td>\n",
              "      <td>-1.0</td>\n",
              "      <td>0.0</td>\n",
              "      <td>0.0</td>\n",
              "      <td>0.0</td>\n",
              "      <td>0.0</td>\n",
              "    </tr>\n",
              "    <tr>\n",
              "      <th>3</th>\n",
              "      <td>26300.0</td>\n",
              "      <td>40.0</td>\n",
              "      <td>60.0</td>\n",
              "      <td>220.0</td>\n",
              "      <td>1600.0</td>\n",
              "      <td>1.0</td>\n",
              "      <td>1900.0</td>\n",
              "      <td>2444.0</td>\n",
              "      <td>3.0</td>\n",
              "      <td>8.0</td>\n",
              "      <td>2.0</td>\n",
              "      <td>4.0</td>\n",
              "      <td>0.0</td>\n",
              "      <td>5.0</td>\n",
              "      <td>2.0</td>\n",
              "      <td>2.0</td>\n",
              "    </tr>\n",
              "    <tr>\n",
              "      <th>4</th>\n",
              "      <td>52100.0</td>\n",
              "      <td>35.0</td>\n",
              "      <td>200.0</td>\n",
              "      <td>210.0</td>\n",
              "      <td>2800.0</td>\n",
              "      <td>0.0</td>\n",
              "      <td>1926.0</td>\n",
              "      <td>2144.0</td>\n",
              "      <td>3.0</td>\n",
              "      <td>8.0</td>\n",
              "      <td>2.0</td>\n",
              "      <td>4.0</td>\n",
              "      <td>1.0</td>\n",
              "      <td>4.0</td>\n",
              "      <td>2.0</td>\n",
              "      <td>1.0</td>\n",
              "    </tr>\n",
              "  </tbody>\n",
              "</table>\n",
              "</div>"
            ],
            "text/plain": [
              "   TOTAL VALUE  FRONT   DEPTH  ...  # OF BEDS  # OF BATHS  # OF KITCHENS\n",
              "0      26600.0   11.0     0.0  ...        2.0         1.0            1.0\n",
              "1        200.0   23.0     0.0  ...        0.0         0.0            0.0\n",
              "2      25000.0   99.0  1440.0  ...        0.0         0.0            0.0\n",
              "3      26300.0   40.0    60.0  ...        5.0         2.0            2.0\n",
              "4      52100.0   35.0   200.0  ...        4.0         2.0            1.0\n",
              "\n",
              "[5 rows x 16 columns]"
            ]
          },
          "metadata": {
            "tags": []
          },
          "execution_count": 116
        }
      ]
    },
    {
      "cell_type": "code",
      "metadata": {
        "id": "preliminary-wireless"
      },
      "source": [
        "y = np.asarray(df['TOTAL VALUE'] )\n",
        "y = y.reshape(y.shape[0],1)\n",
        "feature_cols = df.columns.to_list()\n",
        "feature_cols.remove('TOTAL VALUE')\n",
        "x = np.asarray(df[feature_cols])"
      ],
      "id": "preliminary-wireless",
      "execution_count": null,
      "outputs": []
    },
    {
      "cell_type": "markdown",
      "metadata": {
        "id": "available-picnic"
      },
      "source": [
        "Variable **y** contains the total values of the property\n",
        "\n",
        "Variable **x** contains the features"
      ],
      "id": "available-picnic"
    },
    {
      "cell_type": "markdown",
      "metadata": {
        "id": "twelve-skill"
      },
      "source": [
        "#### STEP 2 - Split the Data into training and testing and validation split ( 70% Training, 20% Testing and 10% validation) ( Hint: you can use the sklearn library for this step only) ( 5 Points)"
      ],
      "id": "twelve-skill"
    },
    {
      "cell_type": "code",
      "metadata": {
        "id": "downtown-antarctica"
      },
      "source": [
        "x_train, x_test, y_train, y_test = train_test_split(x, y, test_size=0.2, random_state=1)\r\n",
        "\r\n",
        "x_train, x_val, y_train, y_val = train_test_split(x_train, y_train, test_size=0.125, random_state=1) #0.125*0.8=0.1"
      ],
      "id": "downtown-antarctica",
      "execution_count": null,
      "outputs": []
    },
    {
      "cell_type": "markdown",
      "metadata": {
        "id": "theoretical-allergy"
      },
      "source": [
        "#### STEP 3 - Scale Data Using Min Max Scaler (10 Points)\n",
        "For each feature scaled value can be calculated using $  x_{scaled} = \\frac{x - min(x)}{max(x) - min(x)}$\n"
      ],
      "id": "theoretical-allergy"
    },
    {
      "cell_type": "code",
      "metadata": {
        "id": "civilian-lounge"
      },
      "source": [
        "#STEP 3\r\n",
        "\r\n",
        "list_col =[]\r\n",
        "for i in pd.DataFrame(x_train).columns:\r\n",
        "  \r\n",
        "  xscaled_numerator = pd.DataFrame(x_train)[i]-min(pd.DataFrame(x_train)[i])\r\n",
        "  xscaled_denominator = max(pd.DataFrame(x_train)[i]) - min(pd.DataFrame(x_train)[i])  \r\n",
        "  # print(max(pd.DataFrame(x_train)[i]))\r\n",
        "  # print(min(pd.DataFrame(x_train)[i]))\r\n",
        "  list_col.append(xscaled_numerator/xscaled_denominator)\r\n",
        "df_x_train_scaled = pd.DataFrame(np.array(list_col).T)\r\n",
        "\r\n"
      ],
      "id": "civilian-lounge",
      "execution_count": null,
      "outputs": []
    },
    {
      "cell_type": "code",
      "metadata": {
        "colab": {
          "base_uri": "https://localhost:8080/",
          "height": 435
        },
        "id": "JObtSW5pVCHi",
        "outputId": "d1d287d2-c50a-44f8-93cd-ecc24cd24042"
      },
      "source": [
        "df_x_train_scaled"
      ],
      "id": "JObtSW5pVCHi",
      "execution_count": null,
      "outputs": [
        {
          "output_type": "execute_result",
          "data": {
            "text/html": [
              "<div>\n",
              "<style scoped>\n",
              "    .dataframe tbody tr th:only-of-type {\n",
              "        vertical-align: middle;\n",
              "    }\n",
              "\n",
              "    .dataframe tbody tr th {\n",
              "        vertical-align: top;\n",
              "    }\n",
              "\n",
              "    .dataframe thead th {\n",
              "        text-align: right;\n",
              "    }\n",
              "</style>\n",
              "<table border=\"1\" class=\"dataframe\">\n",
              "  <thead>\n",
              "    <tr style=\"text-align: right;\">\n",
              "      <th></th>\n",
              "      <th>0</th>\n",
              "      <th>1</th>\n",
              "      <th>2</th>\n",
              "      <th>3</th>\n",
              "      <th>4</th>\n",
              "      <th>5</th>\n",
              "      <th>6</th>\n",
              "      <th>7</th>\n",
              "      <th>8</th>\n",
              "      <th>9</th>\n",
              "      <th>10</th>\n",
              "      <th>11</th>\n",
              "      <th>12</th>\n",
              "      <th>13</th>\n",
              "      <th>14</th>\n",
              "    </tr>\n",
              "  </thead>\n",
              "  <tbody>\n",
              "    <tr>\n",
              "      <th>0</th>\n",
              "      <td>0.000360</td>\n",
              "      <td>0.007170</td>\n",
              "      <td>0.013141</td>\n",
              "      <td>0.002226</td>\n",
              "      <td>1.123596e-08</td>\n",
              "      <td>0.945022</td>\n",
              "      <td>0.225008</td>\n",
              "      <td>0.666667</td>\n",
              "      <td>0.500000</td>\n",
              "      <td>0.6</td>\n",
              "      <td>1.0</td>\n",
              "      <td>0.0</td>\n",
              "      <td>0.500000</td>\n",
              "      <td>0.250</td>\n",
              "      <td>0.666667</td>\n",
              "    </tr>\n",
              "    <tr>\n",
              "      <th>1</th>\n",
              "      <td>0.000360</td>\n",
              "      <td>0.001557</td>\n",
              "      <td>0.132720</td>\n",
              "      <td>0.000069</td>\n",
              "      <td>1.123596e-08</td>\n",
              "      <td>0.000000</td>\n",
              "      <td>0.000000</td>\n",
              "      <td>0.000000</td>\n",
              "      <td>0.000000</td>\n",
              "      <td>0.0</td>\n",
              "      <td>0.0</td>\n",
              "      <td>0.0</td>\n",
              "      <td>0.000000</td>\n",
              "      <td>0.000</td>\n",
              "      <td>0.000000</td>\n",
              "    </tr>\n",
              "    <tr>\n",
              "      <th>2</th>\n",
              "      <td>0.000309</td>\n",
              "      <td>0.006667</td>\n",
              "      <td>0.132720</td>\n",
              "      <td>0.000199</td>\n",
              "      <td>5.617978e-06</td>\n",
              "      <td>0.000000</td>\n",
              "      <td>0.000000</td>\n",
              "      <td>0.000000</td>\n",
              "      <td>0.000000</td>\n",
              "      <td>0.0</td>\n",
              "      <td>0.0</td>\n",
              "      <td>0.0</td>\n",
              "      <td>0.000000</td>\n",
              "      <td>0.000</td>\n",
              "      <td>0.000000</td>\n",
              "    </tr>\n",
              "    <tr>\n",
              "      <th>3</th>\n",
              "      <td>0.000360</td>\n",
              "      <td>0.007233</td>\n",
              "      <td>0.000000</td>\n",
              "      <td>0.000225</td>\n",
              "      <td>4.820225e-04</td>\n",
              "      <td>0.954928</td>\n",
              "      <td>0.101738</td>\n",
              "      <td>0.666667</td>\n",
              "      <td>0.500000</td>\n",
              "      <td>0.6</td>\n",
              "      <td>1.0</td>\n",
              "      <td>0.0</td>\n",
              "      <td>0.250000</td>\n",
              "      <td>0.125</td>\n",
              "      <td>0.333333</td>\n",
              "    </tr>\n",
              "    <tr>\n",
              "      <th>4</th>\n",
              "      <td>0.000360</td>\n",
              "      <td>0.006415</td>\n",
              "      <td>0.013141</td>\n",
              "      <td>0.000727</td>\n",
              "      <td>3.685393e-04</td>\n",
              "      <td>0.954433</td>\n",
              "      <td>0.256536</td>\n",
              "      <td>0.666667</td>\n",
              "      <td>0.500000</td>\n",
              "      <td>0.6</td>\n",
              "      <td>0.8</td>\n",
              "      <td>0.0</td>\n",
              "      <td>0.500000</td>\n",
              "      <td>0.250</td>\n",
              "      <td>0.666667</td>\n",
              "    </tr>\n",
              "    <tr>\n",
              "      <th>...</th>\n",
              "      <td>...</td>\n",
              "      <td>...</td>\n",
              "      <td>...</td>\n",
              "      <td>...</td>\n",
              "      <td>...</td>\n",
              "      <td>...</td>\n",
              "      <td>...</td>\n",
              "      <td>...</td>\n",
              "      <td>...</td>\n",
              "      <td>...</td>\n",
              "      <td>...</td>\n",
              "      <td>...</td>\n",
              "      <td>...</td>\n",
              "      <td>...</td>\n",
              "      <td>...</td>\n",
              "    </tr>\n",
              "    <tr>\n",
              "      <th>64750</th>\n",
              "      <td>0.000412</td>\n",
              "      <td>0.004969</td>\n",
              "      <td>0.000000</td>\n",
              "      <td>0.000372</td>\n",
              "      <td>1.123596e-08</td>\n",
              "      <td>0.967806</td>\n",
              "      <td>0.102507</td>\n",
              "      <td>0.666667</td>\n",
              "      <td>0.277778</td>\n",
              "      <td>0.6</td>\n",
              "      <td>1.0</td>\n",
              "      <td>0.0</td>\n",
              "      <td>0.250000</td>\n",
              "      <td>0.125</td>\n",
              "      <td>0.333333</td>\n",
              "    </tr>\n",
              "    <tr>\n",
              "      <th>64751</th>\n",
              "      <td>0.000360</td>\n",
              "      <td>0.006730</td>\n",
              "      <td>0.013141</td>\n",
              "      <td>0.000823</td>\n",
              "      <td>2.247191e-04</td>\n",
              "      <td>0.947003</td>\n",
              "      <td>0.187019</td>\n",
              "      <td>0.666667</td>\n",
              "      <td>0.500000</td>\n",
              "      <td>0.6</td>\n",
              "      <td>1.0</td>\n",
              "      <td>0.0</td>\n",
              "      <td>0.333333</td>\n",
              "      <td>0.375</td>\n",
              "      <td>0.666667</td>\n",
              "    </tr>\n",
              "    <tr>\n",
              "      <th>64752</th>\n",
              "      <td>0.000257</td>\n",
              "      <td>0.006289</td>\n",
              "      <td>0.132720</td>\n",
              "      <td>0.000268</td>\n",
              "      <td>0.000000e+00</td>\n",
              "      <td>0.000000</td>\n",
              "      <td>0.000000</td>\n",
              "      <td>0.000000</td>\n",
              "      <td>0.000000</td>\n",
              "      <td>0.0</td>\n",
              "      <td>0.0</td>\n",
              "      <td>0.0</td>\n",
              "      <td>0.000000</td>\n",
              "      <td>0.000</td>\n",
              "      <td>0.000000</td>\n",
              "    </tr>\n",
              "    <tr>\n",
              "      <th>64753</th>\n",
              "      <td>0.000329</td>\n",
              "      <td>0.007673</td>\n",
              "      <td>0.132720</td>\n",
              "      <td>0.000147</td>\n",
              "      <td>0.000000e+00</td>\n",
              "      <td>0.000000</td>\n",
              "      <td>0.000000</td>\n",
              "      <td>0.000000</td>\n",
              "      <td>0.000000</td>\n",
              "      <td>0.0</td>\n",
              "      <td>0.0</td>\n",
              "      <td>0.0</td>\n",
              "      <td>0.000000</td>\n",
              "      <td>0.000</td>\n",
              "      <td>0.000000</td>\n",
              "    </tr>\n",
              "    <tr>\n",
              "      <th>64754</th>\n",
              "      <td>0.000319</td>\n",
              "      <td>0.006289</td>\n",
              "      <td>0.132720</td>\n",
              "      <td>0.000191</td>\n",
              "      <td>1.123596e-08</td>\n",
              "      <td>0.000000</td>\n",
              "      <td>0.000000</td>\n",
              "      <td>0.000000</td>\n",
              "      <td>0.000000</td>\n",
              "      <td>0.0</td>\n",
              "      <td>0.0</td>\n",
              "      <td>0.0</td>\n",
              "      <td>0.000000</td>\n",
              "      <td>0.000</td>\n",
              "      <td>0.000000</td>\n",
              "    </tr>\n",
              "  </tbody>\n",
              "</table>\n",
              "<p>64755 rows × 15 columns</p>\n",
              "</div>"
            ],
            "text/plain": [
              "             0         1         2         3   ...   11        12     13        14\n",
              "0      0.000360  0.007170  0.013141  0.002226  ...  0.0  0.500000  0.250  0.666667\n",
              "1      0.000360  0.001557  0.132720  0.000069  ...  0.0  0.000000  0.000  0.000000\n",
              "2      0.000309  0.006667  0.132720  0.000199  ...  0.0  0.000000  0.000  0.000000\n",
              "3      0.000360  0.007233  0.000000  0.000225  ...  0.0  0.250000  0.125  0.333333\n",
              "4      0.000360  0.006415  0.013141  0.000727  ...  0.0  0.500000  0.250  0.666667\n",
              "...         ...       ...       ...       ...  ...  ...       ...    ...       ...\n",
              "64750  0.000412  0.004969  0.000000  0.000372  ...  0.0  0.250000  0.125  0.333333\n",
              "64751  0.000360  0.006730  0.013141  0.000823  ...  0.0  0.333333  0.375  0.666667\n",
              "64752  0.000257  0.006289  0.132720  0.000268  ...  0.0  0.000000  0.000  0.000000\n",
              "64753  0.000329  0.007673  0.132720  0.000147  ...  0.0  0.000000  0.000  0.000000\n",
              "64754  0.000319  0.006289  0.132720  0.000191  ...  0.0  0.000000  0.000  0.000000\n",
              "\n",
              "[64755 rows x 15 columns]"
            ]
          },
          "metadata": {
            "tags": []
          },
          "execution_count": 171
        }
      ]
    },
    {
      "cell_type": "markdown",
      "metadata": {
        "id": "prostate-disney"
      },
      "source": [
        "#### STEP 4 - Initialize values for the weights, No. of Epochs and Learning Rate (5 Points)"
      ],
      "id": "prostate-disney"
    },
    {
      "cell_type": "code",
      "metadata": {
        "id": "absolute-associate",
        "colab": {
          "base_uri": "https://localhost:8080/"
        },
        "outputId": "dd12c054-ace8-4f48-e2c8-172564f44752"
      },
      "source": [
        "#STEP 4\n",
        "w= np.dot(np.linalg.inv(np.dot(x_train.T,x_train)),np.dot(x_train.T,y_train))\n"
      ],
      "id": "absolute-associate",
      "execution_count": null,
      "outputs": [
        {
          "output_type": "execute_result",
          "data": {
            "text/plain": [
              "array([[ 4.06749116e+01],\n",
              "       [-1.00964420e+02],\n",
              "       [ 1.09165684e+03],\n",
              "       [ 3.51667282e+00],\n",
              "       [ 3.04607501e-01],\n",
              "       [-4.41468351e+02],\n",
              "       [-8.43390683e+00],\n",
              "       [ 1.32539280e+05],\n",
              "       [ 7.05753114e+03],\n",
              "       [ 8.16934327e+04],\n",
              "       [ 1.89991627e+04],\n",
              "       [-3.78742454e+03],\n",
              "       [-3.63579482e+03],\n",
              "       [-1.19128794e+04],\n",
              "       [ 1.04994236e+04]])"
            ]
          },
          "metadata": {
            "tags": []
          },
          "execution_count": 172
        }
      ]
    },
    {
      "cell_type": "code",
      "metadata": {
        "id": "ySZCY0ZCqAMZ"
      },
      "source": [
        "batch_size=32\r\n",
        "epochs=9,\r\n",
        "learning_rate=0.01"
      ],
      "id": "ySZCY0ZCqAMZ",
      "execution_count": null,
      "outputs": []
    },
    {
      "cell_type": "markdown",
      "metadata": {
        "id": "moved-parking"
      },
      "source": [
        "#### STEP 5 - Train Linear Regression Model (40 Points)\n",
        " 5.1 Start a Loop For each Epoch\n",
        " \n",
        " 5.2 Find the predicted value using $ y(x,w) = w_0 + w_1x $ for the training and validation splits (10 Points)\n",
        " \n",
        " 5.3 Find the Loss using Mean Squared Error for the training and validation splits and store in a list (10 Points)\n",
        " \n",
        " 5.4 Calculate the Gradients (15 Points)\n",
        " \n",
        " 5.5 Update the weights using the gradients (5 Points)"
      ],
      "id": "moved-parking"
    },
    {
      "cell_type": "code",
      "metadata": {
        "id": "alleged-diary"
      },
      "source": [
        "# STEP 5\n",
        "for i in epochs:\n",
        "  "
      ],
      "id": "alleged-diary",
      "execution_count": null,
      "outputs": []
    },
    {
      "cell_type": "markdown",
      "metadata": {
        "id": "fuzzy-prairie"
      },
      "source": [
        "#### STEP 6 - Evaluate the Model ( 25 Points)\n",
        "6.1 Plot a graph of the Training and Validation Loss wrt epochs (10 Points)\n",
        "\n",
        "6.2 Find the R2 Score of the trained model for the Train, Test and Validation splits (15 Points)"
      ],
      "id": "fuzzy-prairie"
    },
    {
      "cell_type": "code",
      "metadata": {
        "id": "outstanding-jewel"
      },
      "source": [
        "# STEP 6\n"
      ],
      "id": "outstanding-jewel",
      "execution_count": null,
      "outputs": []
    }
  ]
}